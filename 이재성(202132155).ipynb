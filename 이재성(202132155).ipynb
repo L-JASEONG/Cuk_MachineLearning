{
  "nbformat": 4,
  "nbformat_minor": 0,
  "metadata": {
    "colab": {
      "name": "이재성(202132155).ipynb",
      "provenance": [],
      "collapsed_sections": []
    },
    "kernelspec": {
      "name": "python3",
      "display_name": "Python 3"
    },
    "language_info": {
      "name": "python"
    },
    "accelerator": "GPU"
  },
  "cells": [
    {
      "cell_type": "code",
      "metadata": {
        "id": "hJT1hjteXo2c",
        "colab": {
          "base_uri": "https://localhost:8080/",
          "height": 243
        },
        "outputId": "445cf249-7c9e-4205-a5a0-1504e6de1806"
      },
      "source": [
        "import pandas as pd\n",
        "from google.colab import drive\n",
        "\n",
        "# 드라이브 마운트\n",
        "drive.mount('/content/drive')\n",
        "\n",
        "# 심부전 데이터셋 Read\n",
        "data = pd.read_csv('/content/drive/My Drive/data/heart.csv')\n",
        "print(\"데이터 rows * columns: {}\".format(data.shape[:]))\n",
        "data.head()"
      ],
      "execution_count": 41,
      "outputs": [
        {
          "output_type": "stream",
          "name": "stdout",
          "text": [
            "Drive already mounted at /content/drive; to attempt to forcibly remount, call drive.mount(\"/content/drive\", force_remount=True).\n",
            "데이터 rows * columns: (918, 12)\n"
          ]
        },
        {
          "output_type": "execute_result",
          "data": {
            "text/html": [
              "<div>\n",
              "<style scoped>\n",
              "    .dataframe tbody tr th:only-of-type {\n",
              "        vertical-align: middle;\n",
              "    }\n",
              "\n",
              "    .dataframe tbody tr th {\n",
              "        vertical-align: top;\n",
              "    }\n",
              "\n",
              "    .dataframe thead th {\n",
              "        text-align: right;\n",
              "    }\n",
              "</style>\n",
              "<table border=\"1\" class=\"dataframe\">\n",
              "  <thead>\n",
              "    <tr style=\"text-align: right;\">\n",
              "      <th></th>\n",
              "      <th>Age</th>\n",
              "      <th>Sex</th>\n",
              "      <th>ChestPainType</th>\n",
              "      <th>RestingBP</th>\n",
              "      <th>Cholesterol</th>\n",
              "      <th>FastingBS</th>\n",
              "      <th>RestingECG</th>\n",
              "      <th>MaxHR</th>\n",
              "      <th>ExerciseAngina</th>\n",
              "      <th>Oldpeak</th>\n",
              "      <th>ST_Slope</th>\n",
              "      <th>HeartDisease</th>\n",
              "    </tr>\n",
              "  </thead>\n",
              "  <tbody>\n",
              "    <tr>\n",
              "      <th>0</th>\n",
              "      <td>40</td>\n",
              "      <td>M</td>\n",
              "      <td>ATA</td>\n",
              "      <td>140</td>\n",
              "      <td>289</td>\n",
              "      <td>0</td>\n",
              "      <td>Normal</td>\n",
              "      <td>172</td>\n",
              "      <td>N</td>\n",
              "      <td>0.0</td>\n",
              "      <td>Up</td>\n",
              "      <td>0</td>\n",
              "    </tr>\n",
              "    <tr>\n",
              "      <th>1</th>\n",
              "      <td>49</td>\n",
              "      <td>F</td>\n",
              "      <td>NAP</td>\n",
              "      <td>160</td>\n",
              "      <td>180</td>\n",
              "      <td>0</td>\n",
              "      <td>Normal</td>\n",
              "      <td>156</td>\n",
              "      <td>N</td>\n",
              "      <td>1.0</td>\n",
              "      <td>Flat</td>\n",
              "      <td>1</td>\n",
              "    </tr>\n",
              "    <tr>\n",
              "      <th>2</th>\n",
              "      <td>37</td>\n",
              "      <td>M</td>\n",
              "      <td>ATA</td>\n",
              "      <td>130</td>\n",
              "      <td>283</td>\n",
              "      <td>0</td>\n",
              "      <td>ST</td>\n",
              "      <td>98</td>\n",
              "      <td>N</td>\n",
              "      <td>0.0</td>\n",
              "      <td>Up</td>\n",
              "      <td>0</td>\n",
              "    </tr>\n",
              "    <tr>\n",
              "      <th>3</th>\n",
              "      <td>48</td>\n",
              "      <td>F</td>\n",
              "      <td>ASY</td>\n",
              "      <td>138</td>\n",
              "      <td>214</td>\n",
              "      <td>0</td>\n",
              "      <td>Normal</td>\n",
              "      <td>108</td>\n",
              "      <td>Y</td>\n",
              "      <td>1.5</td>\n",
              "      <td>Flat</td>\n",
              "      <td>1</td>\n",
              "    </tr>\n",
              "    <tr>\n",
              "      <th>4</th>\n",
              "      <td>54</td>\n",
              "      <td>M</td>\n",
              "      <td>NAP</td>\n",
              "      <td>150</td>\n",
              "      <td>195</td>\n",
              "      <td>0</td>\n",
              "      <td>Normal</td>\n",
              "      <td>122</td>\n",
              "      <td>N</td>\n",
              "      <td>0.0</td>\n",
              "      <td>Up</td>\n",
              "      <td>0</td>\n",
              "    </tr>\n",
              "  </tbody>\n",
              "</table>\n",
              "</div>"
            ],
            "text/plain": [
              "   Age Sex ChestPainType  ...  Oldpeak  ST_Slope  HeartDisease\n",
              "0   40   M           ATA  ...      0.0        Up             0\n",
              "1   49   F           NAP  ...      1.0      Flat             1\n",
              "2   37   M           ATA  ...      0.0        Up             0\n",
              "3   48   F           ASY  ...      1.5      Flat             1\n",
              "4   54   M           NAP  ...      0.0        Up             0\n",
              "\n",
              "[5 rows x 12 columns]"
            ]
          },
          "metadata": {},
          "execution_count": 41
        }
      ]
    },
    {
      "cell_type": "code",
      "metadata": {
        "id": "K2KKENNdOLic",
        "colab": {
          "base_uri": "https://localhost:8080/",
          "height": 225
        },
        "outputId": "e501686d-0914-402d-afb7-38d0e8737a0d"
      },
      "source": [
        "# 데이터셋 900 rows 및 7개 columns 사용\n",
        "X = data.loc[:899, ['Age', 'ChestPainType', 'Cholesterol', 'FastingBS', 'RestingECG', 'MaxHR', 'ExerciseAngina']]\n",
        "y = data.loc[:899, ['HeartDisease']]\n",
        "\n",
        "print(\"데이터 rows * columns: {}\".format(X.shape[:]))\n",
        "X.head()"
      ],
      "execution_count": 42,
      "outputs": [
        {
          "output_type": "stream",
          "name": "stdout",
          "text": [
            "데이터 rows * columns: (900, 7)\n"
          ]
        },
        {
          "output_type": "execute_result",
          "data": {
            "text/html": [
              "<div>\n",
              "<style scoped>\n",
              "    .dataframe tbody tr th:only-of-type {\n",
              "        vertical-align: middle;\n",
              "    }\n",
              "\n",
              "    .dataframe tbody tr th {\n",
              "        vertical-align: top;\n",
              "    }\n",
              "\n",
              "    .dataframe thead th {\n",
              "        text-align: right;\n",
              "    }\n",
              "</style>\n",
              "<table border=\"1\" class=\"dataframe\">\n",
              "  <thead>\n",
              "    <tr style=\"text-align: right;\">\n",
              "      <th></th>\n",
              "      <th>Age</th>\n",
              "      <th>ChestPainType</th>\n",
              "      <th>Cholesterol</th>\n",
              "      <th>FastingBS</th>\n",
              "      <th>RestingECG</th>\n",
              "      <th>MaxHR</th>\n",
              "      <th>ExerciseAngina</th>\n",
              "    </tr>\n",
              "  </thead>\n",
              "  <tbody>\n",
              "    <tr>\n",
              "      <th>0</th>\n",
              "      <td>40</td>\n",
              "      <td>ATA</td>\n",
              "      <td>289</td>\n",
              "      <td>0</td>\n",
              "      <td>Normal</td>\n",
              "      <td>172</td>\n",
              "      <td>N</td>\n",
              "    </tr>\n",
              "    <tr>\n",
              "      <th>1</th>\n",
              "      <td>49</td>\n",
              "      <td>NAP</td>\n",
              "      <td>180</td>\n",
              "      <td>0</td>\n",
              "      <td>Normal</td>\n",
              "      <td>156</td>\n",
              "      <td>N</td>\n",
              "    </tr>\n",
              "    <tr>\n",
              "      <th>2</th>\n",
              "      <td>37</td>\n",
              "      <td>ATA</td>\n",
              "      <td>283</td>\n",
              "      <td>0</td>\n",
              "      <td>ST</td>\n",
              "      <td>98</td>\n",
              "      <td>N</td>\n",
              "    </tr>\n",
              "    <tr>\n",
              "      <th>3</th>\n",
              "      <td>48</td>\n",
              "      <td>ASY</td>\n",
              "      <td>214</td>\n",
              "      <td>0</td>\n",
              "      <td>Normal</td>\n",
              "      <td>108</td>\n",
              "      <td>Y</td>\n",
              "    </tr>\n",
              "    <tr>\n",
              "      <th>4</th>\n",
              "      <td>54</td>\n",
              "      <td>NAP</td>\n",
              "      <td>195</td>\n",
              "      <td>0</td>\n",
              "      <td>Normal</td>\n",
              "      <td>122</td>\n",
              "      <td>N</td>\n",
              "    </tr>\n",
              "  </tbody>\n",
              "</table>\n",
              "</div>"
            ],
            "text/plain": [
              "   Age ChestPainType  Cholesterol  FastingBS RestingECG  MaxHR ExerciseAngina\n",
              "0   40           ATA          289          0     Normal    172              N\n",
              "1   49           NAP          180          0     Normal    156              N\n",
              "2   37           ATA          283          0         ST     98              N\n",
              "3   48           ASY          214          0     Normal    108              Y\n",
              "4   54           NAP          195          0     Normal    122              N"
            ]
          },
          "metadata": {},
          "execution_count": 42
        }
      ]
    },
    {
      "cell_type": "code",
      "metadata": {
        "id": "TP5U4KNfd-ku",
        "colab": {
          "base_uri": "https://localhost:8080/",
          "height": 206
        },
        "outputId": "30542564-9ab5-48cc-8761-1f8135333cdd"
      },
      "source": [
        "y.head()"
      ],
      "execution_count": 43,
      "outputs": [
        {
          "output_type": "execute_result",
          "data": {
            "text/html": [
              "<div>\n",
              "<style scoped>\n",
              "    .dataframe tbody tr th:only-of-type {\n",
              "        vertical-align: middle;\n",
              "    }\n",
              "\n",
              "    .dataframe tbody tr th {\n",
              "        vertical-align: top;\n",
              "    }\n",
              "\n",
              "    .dataframe thead th {\n",
              "        text-align: right;\n",
              "    }\n",
              "</style>\n",
              "<table border=\"1\" class=\"dataframe\">\n",
              "  <thead>\n",
              "    <tr style=\"text-align: right;\">\n",
              "      <th></th>\n",
              "      <th>HeartDisease</th>\n",
              "    </tr>\n",
              "  </thead>\n",
              "  <tbody>\n",
              "    <tr>\n",
              "      <th>0</th>\n",
              "      <td>0</td>\n",
              "    </tr>\n",
              "    <tr>\n",
              "      <th>1</th>\n",
              "      <td>1</td>\n",
              "    </tr>\n",
              "    <tr>\n",
              "      <th>2</th>\n",
              "      <td>0</td>\n",
              "    </tr>\n",
              "    <tr>\n",
              "      <th>3</th>\n",
              "      <td>1</td>\n",
              "    </tr>\n",
              "    <tr>\n",
              "      <th>4</th>\n",
              "      <td>0</td>\n",
              "    </tr>\n",
              "  </tbody>\n",
              "</table>\n",
              "</div>"
            ],
            "text/plain": [
              "   HeartDisease\n",
              "0             0\n",
              "1             1\n",
              "2             0\n",
              "3             1\n",
              "4             0"
            ]
          },
          "metadata": {},
          "execution_count": 43
        }
      ]
    },
    {
      "cell_type": "code",
      "metadata": {
        "id": "0lkwGIa_ctpg",
        "colab": {
          "base_uri": "https://localhost:8080/",
          "height": 206
        },
        "outputId": "9cff3ca5-1459-4b7b-c425-e22f638f23c5"
      },
      "source": [
        "# 문자열 값을 변환\n",
        "# 흉통 유형 (ASY[0]:무증상, NAP[1]: 비협심증, ATA[2]: 비정형 협심증, TA[3]: 전형적인 협심증) 변환\n",
        "listChestPainType = []\n",
        "for gt in X['ChestPainType']:\n",
        "  if gt == 'ASY':\n",
        "    listChestPainType.append(0)\n",
        "  elif gt == 'NAP':\n",
        "    listChestPainType.append(1)\n",
        "  elif gt == 'ATA':\n",
        "    listChestPainType.append(2)\n",
        "  elif gt == 'TA':\n",
        "    listChestPainType.append(3)\n",
        "  else:\n",
        "    listChestPainType.append(gt)\n",
        "# ChestPainType 칼럼 삭제 후 listChestPainType 칼럼으로 대체\n",
        "X.drop(['ChestPainType'], axis=1, inplace=True)\n",
        "X.insert(1, 'ChestPainType', listChestPainType, allow_duplicates=False)\n",
        "\n",
        "# RestingECG (Normal[0], ST[1], LVH[2]) 변환\n",
        "listRestingECG = []\n",
        "for gt in X['RestingECG']:\n",
        "  if gt == 'Normal':\n",
        "    listRestingECG.append(0)\n",
        "  elif gt == 'ST':\n",
        "    listRestingECG.append(1)\n",
        "  elif gt == 'LVH':\n",
        "    listRestingECG.append(2)\n",
        "  else:\n",
        "    listRestingECG.append(gt)\n",
        "# RestingECG 칼럼 삭제 후 listRestingECG 칼럼으로 대체\n",
        "X.drop(['RestingECG'], axis=1, inplace=True)\n",
        "X.insert(4, 'RestingECG', listRestingECG, allow_duplicates=False)\n",
        "\n",
        "# Exercise Angina 칼럼 (N[0], Y[1]) 변환\n",
        "listExerciseAngina = []\n",
        "for gt in X['ExerciseAngina']:\n",
        "  if gt == 'Y':\n",
        "    listExerciseAngina.append(1)\n",
        "  elif gt == 'N':\n",
        "    listExerciseAngina.append(0)\n",
        "  else:\n",
        "    listExerciseAngina.append(gt)\n",
        "# Exercise Angina 칼럼 대체\n",
        "X.drop(['ExerciseAngina'], axis=1, inplace=True)\n",
        "X.insert(6, 'ExerciseAngina', listExerciseAngina, allow_duplicates=False)\n",
        "\n",
        "X.head()"
      ],
      "execution_count": 44,
      "outputs": [
        {
          "output_type": "execute_result",
          "data": {
            "text/html": [
              "<div>\n",
              "<style scoped>\n",
              "    .dataframe tbody tr th:only-of-type {\n",
              "        vertical-align: middle;\n",
              "    }\n",
              "\n",
              "    .dataframe tbody tr th {\n",
              "        vertical-align: top;\n",
              "    }\n",
              "\n",
              "    .dataframe thead th {\n",
              "        text-align: right;\n",
              "    }\n",
              "</style>\n",
              "<table border=\"1\" class=\"dataframe\">\n",
              "  <thead>\n",
              "    <tr style=\"text-align: right;\">\n",
              "      <th></th>\n",
              "      <th>Age</th>\n",
              "      <th>ChestPainType</th>\n",
              "      <th>Cholesterol</th>\n",
              "      <th>FastingBS</th>\n",
              "      <th>RestingECG</th>\n",
              "      <th>MaxHR</th>\n",
              "      <th>ExerciseAngina</th>\n",
              "    </tr>\n",
              "  </thead>\n",
              "  <tbody>\n",
              "    <tr>\n",
              "      <th>0</th>\n",
              "      <td>40</td>\n",
              "      <td>2</td>\n",
              "      <td>289</td>\n",
              "      <td>0</td>\n",
              "      <td>0</td>\n",
              "      <td>172</td>\n",
              "      <td>0</td>\n",
              "    </tr>\n",
              "    <tr>\n",
              "      <th>1</th>\n",
              "      <td>49</td>\n",
              "      <td>1</td>\n",
              "      <td>180</td>\n",
              "      <td>0</td>\n",
              "      <td>0</td>\n",
              "      <td>156</td>\n",
              "      <td>0</td>\n",
              "    </tr>\n",
              "    <tr>\n",
              "      <th>2</th>\n",
              "      <td>37</td>\n",
              "      <td>2</td>\n",
              "      <td>283</td>\n",
              "      <td>0</td>\n",
              "      <td>1</td>\n",
              "      <td>98</td>\n",
              "      <td>0</td>\n",
              "    </tr>\n",
              "    <tr>\n",
              "      <th>3</th>\n",
              "      <td>48</td>\n",
              "      <td>0</td>\n",
              "      <td>214</td>\n",
              "      <td>0</td>\n",
              "      <td>0</td>\n",
              "      <td>108</td>\n",
              "      <td>1</td>\n",
              "    </tr>\n",
              "    <tr>\n",
              "      <th>4</th>\n",
              "      <td>54</td>\n",
              "      <td>1</td>\n",
              "      <td>195</td>\n",
              "      <td>0</td>\n",
              "      <td>0</td>\n",
              "      <td>122</td>\n",
              "      <td>0</td>\n",
              "    </tr>\n",
              "  </tbody>\n",
              "</table>\n",
              "</div>"
            ],
            "text/plain": [
              "   Age  ChestPainType  Cholesterol  ...  RestingECG  MaxHR  ExerciseAngina\n",
              "0   40              2          289  ...           0    172               0\n",
              "1   49              1          180  ...           0    156               0\n",
              "2   37              2          283  ...           1     98               0\n",
              "3   48              0          214  ...           0    108               1\n",
              "4   54              1          195  ...           0    122               0\n",
              "\n",
              "[5 rows x 7 columns]"
            ]
          },
          "metadata": {},
          "execution_count": 44
        }
      ]
    },
    {
      "cell_type": "code",
      "metadata": {
        "id": "CqMgjIi5GB4e",
        "colab": {
          "base_uri": "https://localhost:8080/"
        },
        "outputId": "fbdb2813-c66f-4047-a8d3-4adb8b6b232e"
      },
      "source": [
        "# 훈련셋과 시험셋 분리\n",
        "from sklearn.model_selection import train_test_split\n",
        "from sklearn.utils.validation import column_or_1d\n",
        "y = column_or_1d(y, warn=True)\n",
        "\n",
        "X_train, X_test, y_train, y_test = train_test_split(X, y, test_size=0.2, random_state=20)"
      ],
      "execution_count": 45,
      "outputs": [
        {
          "output_type": "stream",
          "name": "stderr",
          "text": [
            "/usr/local/lib/python3.7/dist-packages/ipykernel_launcher.py:4: DataConversionWarning: A column-vector y was passed when a 1d array was expected. Please change the shape of y to (n_samples, ), for example using ravel().\n",
            "  after removing the cwd from sys.path.\n"
          ]
        }
      ]
    },
    {
      "cell_type": "code",
      "metadata": {
        "id": "jkSLPnyUU3kw",
        "colab": {
          "base_uri": "https://localhost:8080/"
        },
        "outputId": "c1511269-3822-4674-fee4-67c30713723b"
      },
      "source": [
        "# SVM을 통한 분류 (파라미터 튜닝 X)\n",
        "from sklearn import svm\n",
        "from sklearn.metrics import accuracy_score\n",
        "\n",
        "svm_clf = svm.SVC(kernel='rbf')\n",
        "svm_clf.fit(X_train, y_train)\n",
        "svm_pred = svm_clf.predict(X_test)\n",
        "print('accuracy: {:.4f}'.format(accuracy_score(y_test, svm_pred)))\n"
      ],
      "execution_count": 46,
      "outputs": [
        {
          "output_type": "stream",
          "name": "stdout",
          "text": [
            "accuracy: 0.7333\n"
          ]
        }
      ]
    },
    {
      "cell_type": "code",
      "metadata": {
        "id": "a4YJFcnYGpu3",
        "colab": {
          "base_uri": "https://localhost:8080/",
          "height": 206
        },
        "outputId": "bcaff8b5-a449-4362-a064-a6e9379c4eba"
      },
      "source": [
        "# SVM (GridSearchCV) 를 통한 최적의 하이퍼 파라미터 도출하여 학습\n",
        "from sklearn.model_selection import GridSearchCV\n",
        "\n",
        "svm_grid_clf = svm.SVC(kernel='rbf')\n",
        "parameters = {\n",
        "    'C' : [0.001, 0.01, 0.1, 1, 10, 30, 50],\n",
        "    'gamma' : [0.001, 0.01, 0.1, 1, 10, 30, 50]\n",
        "}\n",
        "\n",
        "# 최적의 하이퍼파라미터 도출하여 학습\n",
        "grid_svm = GridSearchCV(svm_grid_clf, param_grid=parameters, cv=5)\n",
        "grid_svm.fit(X_train, y_train)\n",
        "\n",
        "# 평균 시험정확도 출력\n",
        "grid_result_pd = pd.DataFrame(grid_svm.cv_results_['params'])\n",
        "grid_result_pd['mean_test_score'] = grid_svm.cv_results_['mean_test_score']\n",
        "grid_result_pd.sort_values(by='mean_test_score', ascending=False).head()"
      ],
      "execution_count": 47,
      "outputs": [
        {
          "output_type": "execute_result",
          "data": {
            "text/html": [
              "<div>\n",
              "<style scoped>\n",
              "    .dataframe tbody tr th:only-of-type {\n",
              "        vertical-align: middle;\n",
              "    }\n",
              "\n",
              "    .dataframe tbody tr th {\n",
              "        vertical-align: top;\n",
              "    }\n",
              "\n",
              "    .dataframe thead th {\n",
              "        text-align: right;\n",
              "    }\n",
              "</style>\n",
              "<table border=\"1\" class=\"dataframe\">\n",
              "  <thead>\n",
              "    <tr style=\"text-align: right;\">\n",
              "      <th></th>\n",
              "      <th>C</th>\n",
              "      <th>gamma</th>\n",
              "      <th>mean_test_score</th>\n",
              "    </tr>\n",
              "  </thead>\n",
              "  <tbody>\n",
              "    <tr>\n",
              "      <th>35</th>\n",
              "      <td>30.0</td>\n",
              "      <td>0.001</td>\n",
              "      <td>0.748611</td>\n",
              "    </tr>\n",
              "    <tr>\n",
              "      <th>42</th>\n",
              "      <td>50.0</td>\n",
              "      <td>0.001</td>\n",
              "      <td>0.747222</td>\n",
              "    </tr>\n",
              "    <tr>\n",
              "      <th>28</th>\n",
              "      <td>10.0</td>\n",
              "      <td>0.001</td>\n",
              "      <td>0.737500</td>\n",
              "    </tr>\n",
              "    <tr>\n",
              "      <th>21</th>\n",
              "      <td>1.0</td>\n",
              "      <td>0.001</td>\n",
              "      <td>0.720833</td>\n",
              "    </tr>\n",
              "    <tr>\n",
              "      <th>14</th>\n",
              "      <td>0.1</td>\n",
              "      <td>0.001</td>\n",
              "      <td>0.693056</td>\n",
              "    </tr>\n",
              "  </tbody>\n",
              "</table>\n",
              "</div>"
            ],
            "text/plain": [
              "       C  gamma  mean_test_score\n",
              "35  30.0  0.001         0.748611\n",
              "42  50.0  0.001         0.747222\n",
              "28  10.0  0.001         0.737500\n",
              "21   1.0  0.001         0.720833\n",
              "14   0.1  0.001         0.693056"
            ]
          },
          "metadata": {},
          "execution_count": 47
        }
      ]
    },
    {
      "cell_type": "code",
      "metadata": {
        "colab": {
          "base_uri": "https://localhost:8080/"
        },
        "id": "h4BMgWgseGRd",
        "outputId": "9271e61c-76a5-46ab-ab33-1631e575ee06"
      },
      "source": [
        "# 최적 하이퍼파라미터를 활용한 시험 정확도\n",
        "svm_grid_clf_pred = grid_svm.predict(X_test)\n",
        "print('accuracy : {:.4f}'.format(accuracy_score(y_test, svm_grid_clf_pred)))"
      ],
      "execution_count": 48,
      "outputs": [
        {
          "output_type": "stream",
          "name": "stdout",
          "text": [
            "accuracy : 0.7444\n"
          ]
        }
      ]
    },
    {
      "cell_type": "code",
      "metadata": {
        "id": "X3mU3FXS30Wq",
        "colab": {
          "base_uri": "https://localhost:8080/"
        },
        "outputId": "e89d3434-3970-4b41-a4f9-152ca02e0d13"
      },
      "source": [
        "# 의사결정트리\n",
        "from sklearn.tree import DecisionTreeClassifier\n",
        "from sklearn.metrics import accuracy_score\n",
        "\n",
        "# 의사결정트리 (파라미터 튜닝 X)\n",
        "tree_clf = DecisionTreeClassifier()\n",
        "tree_clf.fit(X_train, y_train)\n",
        "\n",
        "tree_pred = tree_clf.predict(X_test)\n",
        "tree_accuracy = '{:.4f}'.format(accuracy_score(y_test, tree_pred))\n",
        "print('의사결정트리(파라미터X) accuracy : ' + tree_accuracy)\n",
        "\n",
        "# 의사결정트리 (파라미터 튜닝 O)\n",
        "tree_param_clf = DecisionTreeClassifier(\n",
        "    max_depth=3, min_samples_split=3, random_state=15)\n",
        "tree_param_clf.fit(X_train, y_train)\n",
        "\n",
        "tree_param_pred = tree_param_clf.predict(X_test)\n",
        "tree_param_accuracy = '{:.4f}'.format(accuracy_score(y_test, tree_param_pred))\n",
        "print('의사결정트리(파라미터O) accuracy : ' + tree_param_accuracy)"
      ],
      "execution_count": 49,
      "outputs": [
        {
          "output_type": "stream",
          "name": "stdout",
          "text": [
            "의사결정트리(파라미터X) accuracy : 0.7444\n",
            "의사결정트리(파라미터O) accuracy : 0.8222\n"
          ]
        }
      ]
    },
    {
      "cell_type": "code",
      "metadata": {
        "id": "AEsb554-85XT",
        "colab": {
          "base_uri": "https://localhost:8080/"
        },
        "outputId": "3e769c96-a05e-430c-a5c6-185d7007b8bd"
      },
      "source": [
        "# 랜덤포레스트\n",
        "from sklearn import tree \n",
        "from sklearn.ensemble import RandomForestClassifier\n",
        "from sklearn.metrics import accuracy_score\n",
        "from sklearn.model_selection import GridSearchCV\n",
        "import pandas as pd\n",
        "\n",
        "# 파라미터 없이 학습\n",
        "rf_clf = RandomForestClassifier()\n",
        "rf_clf.fit(X_train, y_train)\n",
        "\n",
        "rf_pred = rf_clf.predict(X_test)\n",
        "accuracy_rf = accuracy_score(y_test, rf_pred)\n",
        "print('랜덤포레스트(파라미터X) accuracy : {:.4f}'.format(accuracy_rf))"
      ],
      "execution_count": 50,
      "outputs": [
        {
          "output_type": "stream",
          "name": "stdout",
          "text": [
            "랜덤포레스트(파라미터X) accuracy : 0.8222\n"
          ]
        }
      ]
    },
    {
      "cell_type": "code",
      "metadata": {
        "id": "VmQ7vY3PAl8L",
        "colab": {
          "base_uri": "https://localhost:8080/",
          "height": 206
        },
        "outputId": "12f3d4e1-5609-4735-cdca-817c2512e537"
      },
      "source": [
        "# 파라미터를 사용하여 학습\n",
        "rf_param_grid = {\n",
        "    'n_estimators' : [110, 120, 130],\n",
        "    'min_samples_leaf' : [3, 5, 7],\n",
        "    'min_samples_split' : [15, 20, 30]\n",
        "}\n",
        "\n",
        "# 최적의 하이퍼 파라미터 찾기\n",
        "rf_param_clf = RandomForestClassifier()\n",
        "rf_grid_clf = GridSearchCV(rf_param_clf, param_grid=rf_param_grid, scoring='accuracy', n_jobs=1)\n",
        "rf_grid_clf.fit(X_train, y_train)\n",
        "\n",
        "# 최적 하이퍼 파라미터 Top 5 출력\n",
        "grid_rf_result_pd = pd.DataFrame(rf_grid_clf.cv_results_['params'])\n",
        "grid_rf_result_pd['mean_test_score'] = rf_grid_clf.cv_results_['mean_test_score']\n",
        "grid_rf_result_pd.sort_values(by='mean_test_score', ascending=False).head()"
      ],
      "execution_count": 51,
      "outputs": [
        {
          "output_type": "execute_result",
          "data": {
            "text/html": [
              "<div>\n",
              "<style scoped>\n",
              "    .dataframe tbody tr th:only-of-type {\n",
              "        vertical-align: middle;\n",
              "    }\n",
              "\n",
              "    .dataframe tbody tr th {\n",
              "        vertical-align: top;\n",
              "    }\n",
              "\n",
              "    .dataframe thead th {\n",
              "        text-align: right;\n",
              "    }\n",
              "</style>\n",
              "<table border=\"1\" class=\"dataframe\">\n",
              "  <thead>\n",
              "    <tr style=\"text-align: right;\">\n",
              "      <th></th>\n",
              "      <th>min_samples_leaf</th>\n",
              "      <th>min_samples_split</th>\n",
              "      <th>n_estimators</th>\n",
              "      <th>mean_test_score</th>\n",
              "    </tr>\n",
              "  </thead>\n",
              "  <tbody>\n",
              "    <tr>\n",
              "      <th>21</th>\n",
              "      <td>7</td>\n",
              "      <td>20</td>\n",
              "      <td>110</td>\n",
              "      <td>0.822222</td>\n",
              "    </tr>\n",
              "    <tr>\n",
              "      <th>5</th>\n",
              "      <td>3</td>\n",
              "      <td>20</td>\n",
              "      <td>130</td>\n",
              "      <td>0.820833</td>\n",
              "    </tr>\n",
              "    <tr>\n",
              "      <th>20</th>\n",
              "      <td>7</td>\n",
              "      <td>15</td>\n",
              "      <td>130</td>\n",
              "      <td>0.819444</td>\n",
              "    </tr>\n",
              "    <tr>\n",
              "      <th>15</th>\n",
              "      <td>5</td>\n",
              "      <td>30</td>\n",
              "      <td>110</td>\n",
              "      <td>0.819444</td>\n",
              "    </tr>\n",
              "    <tr>\n",
              "      <th>1</th>\n",
              "      <td>3</td>\n",
              "      <td>15</td>\n",
              "      <td>120</td>\n",
              "      <td>0.819444</td>\n",
              "    </tr>\n",
              "  </tbody>\n",
              "</table>\n",
              "</div>"
            ],
            "text/plain": [
              "    min_samples_leaf  min_samples_split  n_estimators  mean_test_score\n",
              "21                 7                 20           110         0.822222\n",
              "5                  3                 20           130         0.820833\n",
              "20                 7                 15           130         0.819444\n",
              "15                 5                 30           110         0.819444\n",
              "1                  3                 15           120         0.819444"
            ]
          },
          "metadata": {},
          "execution_count": 51
        }
      ]
    },
    {
      "cell_type": "code",
      "metadata": {
        "colab": {
          "base_uri": "https://localhost:8080/"
        },
        "id": "ScexIXQwk1Gj",
        "outputId": "158a1090-fd84-47cb-9ffa-80a78985d465"
      },
      "source": [
        "# 시험셋 정확도 측정\n",
        "rf_param_pred = rf_grid_clf.predict(X_test)\n",
        "accuracy_rf_param = accuracy_score(y_test, rf_param_pred)\n",
        "print('랜덤포레스트(파라미터O) accuracy : {:.4f}'.format(accuracy_rf_param))"
      ],
      "execution_count": 52,
      "outputs": [
        {
          "output_type": "stream",
          "name": "stdout",
          "text": [
            "랜덤포레스트(파라미터O) accuracy : 0.8056\n"
          ]
        }
      ]
    },
    {
      "cell_type": "code",
      "metadata": {
        "colab": {
          "base_uri": "https://localhost:8080/",
          "height": 308
        },
        "id": "5QUs-fk_mBeu",
        "outputId": "e588a27e-e168-4984-caf1-6d5076666d68"
      },
      "source": [
        "# 정확도 비교 그래프\n",
        "import matplotlib.pyplot as plt\n",
        "import numpy as np\n",
        "import seaborn as sns\n",
        "\n",
        "fig, ax = plt.subplots(figsize=(6,4))\n",
        "x_graph_data = np.arange(6)\n",
        "y_graph_data = [\n",
        "                accuracy_score(y_test, svm_pred), \n",
        "                accuracy_score(y_test, svm_grid_clf_pred), \n",
        "                accuracy_score(y_test, tree_pred),\n",
        "                accuracy_score(y_test, tree_param_pred),\n",
        "                accuracy_score(y_test, rf_pred),\n",
        "                accuracy_score(y_test, rf_param_pred)]\n",
        "g = sns.barplot(ax=ax, palette='husl', x=x_graph_data, y=y_graph_data)\n",
        "g.set_xticklabels(['SVM', 'SVM(Param)', 'Tree', \n",
        "                   'Tree(Param)', 'RF', 'RF(Param)'], rotation=45)\n",
        "for p in g.patches:\n",
        "  g.annotate(format(p.get_height(), '.4f'), \n",
        "             (p.get_x() + p.get_width() / 2., p.get_height()),\n",
        "             ha='center', va='center', \n",
        "             xytext=(0, 8), textcoords='offset points', size=9)\n",
        "plt.show()"
      ],
      "execution_count": 53,
      "outputs": [
        {
          "output_type": "display_data",
          "data": {
            "image/png": "[encoded data removed]",
            "text/plain": [
              "<Figure size 432x288 with 1 Axes>"
            ]
          },
          "metadata": {
            "needs_background": "light"
          }
        }
      ]
    },
    {
      "cell_type": "code",
      "metadata": {
        "colab": {
          "base_uri": "https://localhost:8080/",
          "height": 238
        },
        "id": "7IqjrucxwBHK",
        "outputId": "07f37b67-f305-4bc6-b358-a7fec77318fe"
      },
      "source": [
        "# 재현율\n",
        "from sklearn.metrics import recall_score\n",
        "from sklearn.metrics import confusion_matrix\n",
        "\n",
        "# Confusion Matrix 계산\n",
        "svm_fusion_matrix         = confusion_matrix(y_test, svm_pred)\n",
        "svm_param_fusion_matrix   = confusion_matrix(y_test, svm_grid_clf_pred)\n",
        "tree_fusion_matrix        = confusion_matrix(y_test, tree_pred)\n",
        "tree_param_fusion_matrix  = confusion_matrix(y_test, tree_param_pred)\n",
        "rf_fusion_matrix          = confusion_matrix(y_test, rf_pred)\n",
        "rf_param_fusion_matrix    = confusion_matrix(y_test, rf_param_pred)\n",
        "\n",
        "# SVM TN, TP 재현율 계산\n",
        "svm_recall_tn       = (svm_fusion_matrix[0, 0] / (svm_fusion_matrix[0, 0] + svm_fusion_matrix[0, 1])) * 100\n",
        "svm_recall_tp       = (svm_fusion_matrix[1, 1] / (svm_fusion_matrix[1, 0] + svm_fusion_matrix[1, 1])) * 100\n",
        "svm_param_recall_tn = (svm_param_fusion_matrix[0, 0] / (svm_param_fusion_matrix[0, 0] + svm_param_fusion_matrix[0, 1])) * 100\n",
        "svm_param_recall_tp = (svm_param_fusion_matrix[1, 1] / (svm_param_fusion_matrix[1, 0] + svm_param_fusion_matrix[1, 1])) * 100\n",
        "\n",
        "# 의사결정트리 TN, TP 재현율 계산\n",
        "tree_recall_tn        = (tree_fusion_matrix[0, 0] / (tree_fusion_matrix[0, 0] + tree_fusion_matrix[0, 1])) * 100\n",
        "tree_recall_tp        = (tree_fusion_matrix[1, 1] / (tree_fusion_matrix[1, 0] + tree_fusion_matrix[1, 1])) * 100\n",
        "tree_param_recall_tn  = (tree_param_fusion_matrix[0, 0] / (tree_param_fusion_matrix[0, 0] + tree_param_fusion_matrix[0, 1])) * 100\n",
        "tree_param_recall_tp  = (tree_param_fusion_matrix[1, 1] / (tree_param_fusion_matrix[1, 0] + tree_param_fusion_matrix[1, 1])) * 100\n",
        "\n",
        "# 랜덤포레스트 TN, TP 재현율 계산\n",
        "rf_recall_tn        = (rf_fusion_matrix[0, 0] / (rf_fusion_matrix[0, 0] + rf_fusion_matrix[0, 1])) * 100\n",
        "rf_recall_tp        = (rf_fusion_matrix[1, 1] / (rf_fusion_matrix[1, 0] + rf_fusion_matrix[1, 1])) * 100\n",
        "rf_param_recall_tn  = (rf_param_fusion_matrix[0, 0] / (rf_param_fusion_matrix[0, 0] + rf_param_fusion_matrix[0, 1])) * 100\n",
        "rf_param_recall_tp  = (rf_param_fusion_matrix[1, 1] / (rf_param_fusion_matrix[1, 0] + rf_param_fusion_matrix[1, 1])) * 100\n",
        "\n",
        "list_tn_recall = [svm_recall_tn, svm_param_recall_tn, tree_recall_tn, \n",
        "                tree_param_recall_tn, rf_recall_tn, rf_param_recall_tn]\n",
        "list_tp_recall = [svm_recall_tp, svm_param_recall_tp, tree_recall_tp,\n",
        "                tree_param_recall_tp, rf_recall_tp, rf_param_recall_tp]\n",
        "\n",
        "list_str_accuracy  = [] # 정확도 문자열 리스트\n",
        "list_str_recall_tn = [] # TN 재현율 문자열 리스트\n",
        "list_str_recall_tp = [] # TP 재현율 문자열 리스트\n",
        "\n",
        "for i in range(0, 6):\n",
        "  list_str_accuracy.append('{:.2f}%'.format(y_graph_data[i] * 100))\n",
        "  list_str_recall_tn.append('{:.2f}%'.format(list_tn_recall[i]))\n",
        "  list_str_recall_tp.append('{:.2f}%'.format(list_tp_recall[i]))\n",
        "\n",
        "# 재현율 표 생성\n",
        "recall_table = pd.DataFrame({\n",
        "    '알고리즘': ['SVM', 'SVM(Param)', 'Tree', 'Tree(Param)', 'RF', 'RF(Param)'],\n",
        "    'TN 재현율' : list_str_recall_tn,\n",
        "    'TP 재현율' : list_str_recall_tp,\n",
        "    '정확도' : list_str_accuracy\n",
        "})\n",
        "recall_table.head(6)"
      ],
      "execution_count": 54,
      "outputs": [
        {
          "output_type": "execute_result",
          "data": {
            "text/html": [
              "<div>\n",
              "<style scoped>\n",
              "    .dataframe tbody tr th:only-of-type {\n",
              "        vertical-align: middle;\n",
              "    }\n",
              "\n",
              "    .dataframe tbody tr th {\n",
              "        vertical-align: top;\n",
              "    }\n",
              "\n",
              "    .dataframe thead th {\n",
              "        text-align: right;\n",
              "    }\n",
              "</style>\n",
              "<table border=\"1\" class=\"dataframe\">\n",
              "  <thead>\n",
              "    <tr style=\"text-align: right;\">\n",
              "      <th></th>\n",
              "      <th>알고리즘</th>\n",
              "      <th>TN 재현율</th>\n",
              "      <th>TP 재현율</th>\n",
              "      <th>정확도</th>\n",
              "    </tr>\n",
              "  </thead>\n",
              "  <tbody>\n",
              "    <tr>\n",
              "      <th>0</th>\n",
              "      <td>SVM</td>\n",
              "      <td>64.56%</td>\n",
              "      <td>80.20%</td>\n",
              "      <td>73.33%</td>\n",
              "    </tr>\n",
              "    <tr>\n",
              "      <th>1</th>\n",
              "      <td>SVM(Param)</td>\n",
              "      <td>72.15%</td>\n",
              "      <td>76.24%</td>\n",
              "      <td>74.44%</td>\n",
              "    </tr>\n",
              "    <tr>\n",
              "      <th>2</th>\n",
              "      <td>Tree</td>\n",
              "      <td>72.15%</td>\n",
              "      <td>76.24%</td>\n",
              "      <td>74.44%</td>\n",
              "    </tr>\n",
              "    <tr>\n",
              "      <th>3</th>\n",
              "      <td>Tree(Param)</td>\n",
              "      <td>88.61%</td>\n",
              "      <td>77.23%</td>\n",
              "      <td>82.22%</td>\n",
              "    </tr>\n",
              "    <tr>\n",
              "      <th>4</th>\n",
              "      <td>RF</td>\n",
              "      <td>81.01%</td>\n",
              "      <td>83.17%</td>\n",
              "      <td>82.22%</td>\n",
              "    </tr>\n",
              "    <tr>\n",
              "      <th>5</th>\n",
              "      <td>RF(Param)</td>\n",
              "      <td>77.22%</td>\n",
              "      <td>83.17%</td>\n",
              "      <td>80.56%</td>\n",
              "    </tr>\n",
              "  </tbody>\n",
              "</table>\n",
              "</div>"
            ],
            "text/plain": [
              "          알고리즘  TN 재현율  TP 재현율     정확도\n",
              "0          SVM  64.56%  80.20%  73.33%\n",
              "1   SVM(Param)  72.15%  76.24%  74.44%\n",
              "2         Tree  72.15%  76.24%  74.44%\n",
              "3  Tree(Param)  88.61%  77.23%  82.22%\n",
              "4           RF  81.01%  83.17%  82.22%\n",
              "5    RF(Param)  77.22%  83.17%  80.56%"
            ]
          },
          "metadata": {},
          "execution_count": 54
        }
      ]
    }
  ]
}